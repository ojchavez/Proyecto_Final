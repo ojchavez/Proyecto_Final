{
 "cells": [
  {
   "cell_type": "code",
   "execution_count": null,
   "metadata": {},
   "outputs": [],
   "source": []
  },
  {
   "cell_type": "code",
   "execution_count": null,
   "metadata": {},
   "outputs": [],
   "source": []
  },
  {
   "cell_type": "code",
   "execution_count": 11,
   "metadata": {},
   "outputs": [
    {
     "name": "stdout",
     "output_type": "stream",
     "text": [
      "numero1\n",
      "1.0\n",
      "fin\n"
     ]
    }
   ],
   "source": [
    "try:\n",
    "    datos = input('numero')\n",
    "    datos = int(datos)\n",
    "    datos = 1/datos\n",
    "    print(datos)\n",
    "except ValueError:\n",
    "    print('error no numero')\n",
    "except ZeroDivisionError:\n",
    "    print('error cero')\n",
    "except:\n",
    "    print('cualquier error')\n",
    "finally:\n",
    "    print('fin')"
   ]
  },
  {
   "cell_type": "code",
   "execution_count": 15,
   "metadata": {},
   "outputs": [
    {
     "name": "stdout",
     "output_type": "stream",
     "text": [
      "a\n",
      "\n",
      "b\n",
      "\n",
      "c\n",
      "\n",
      "def\n",
      "\n",
      "a\n",
      "b\n",
      "c\n",
      "def\n"
     ]
    }
   ],
   "source": [
    "with open('texto.txt') as archivo:\n",
    "    lineas = archivo.readlines()\n",
    "for linea in lineas:\n",
    "    print(linea)\n",
    "\n",
    "with open('texto.txt')as archivo:\n",
    "    for linea in archivo:\n",
    "        print(linea,end='')"
   ]
  },
  {
   "cell_type": "code",
   "execution_count": 21,
   "metadata": {},
   "outputs": [],
   "source": [
    "with open('nuevo2.txt','w') as archivo:\n",
    "    archivo.write('HOLA')\n",
    "with open('nuevo2.txt','a') as archivo:\n",
    "    archivo.write('\\nHola2\\n')"
   ]
  },
  {
   "cell_type": "code",
   "execution_count": 40,
   "metadata": {},
   "outputs": [],
   "source": [
    "def foo(a,b):\n",
    "    try:\n",
    "        return a/b, 'hola'\n",
    "    except:\n",
    "        print('cualquier error')\n",
    "        return\n",
    "    finally:\n",
    "        print('fin de foo')"
   ]
  },
  {
   "cell_type": "code",
   "execution_count": 47,
   "metadata": {},
   "outputs": [
    {
     "name": "stdout",
     "output_type": "stream",
     "text": [
      "fin de foo\n"
     ]
    },
    {
     "data": {
      "text/plain": [
       "(1.0, 'hola')"
      ]
     },
     "execution_count": 47,
     "metadata": {},
     "output_type": "execute_result"
    }
   ],
   "source": [
    "result=foo(1,1)\n",
    "result"
   ]
  },
  {
   "cell_type": "code",
   "execution_count": 51,
   "metadata": {},
   "outputs": [
    {
     "data": {
      "text/plain": [
       "1.6666666666666667"
      ]
     },
     "execution_count": 51,
     "metadata": {},
     "output_type": "execute_result"
    }
   ],
   "source": [
    "result = lambda x,y: x/y\n",
    "result(5,3)"
   ]
  },
  {
   "cell_type": "code",
   "execution_count": 1,
   "metadata": {},
   "outputs": [],
   "source": [
    "# DICCIONARIOS"
   ]
  },
  {
   "cell_type": "code",
   "execution_count": 8,
   "metadata": {},
   "outputs": [
    {
     "name": "stdout",
     "output_type": "stream",
     "text": [
      "{'A': 'Java', 2: 25}\n",
      "Java\n",
      "25\n",
      "{'A': 'Algo', 2: 25}\n"
     ]
    }
   ],
   "source": [
    "dict1={'A':'Java',2:25}\n",
    "print(dict1)\n",
    "print(dict1['A'])\n",
    "print(dict1[2])\n",
    "dict1['A']='Algo'\n",
    "print(dict1)"
   ]
  },
  {
   "cell_type": "code",
   "execution_count": 9,
   "metadata": {},
   "outputs": [],
   "source": [
    "# SETS"
   ]
  },
  {
   "cell_type": "code",
   "execution_count": 10,
   "metadata": {},
   "outputs": [
    {
     "data": {
      "text/plain": [
       "{1, 2, 3, 4, 5, 'hola'}"
      ]
     },
     "execution_count": 10,
     "metadata": {},
     "output_type": "execute_result"
    }
   ],
   "source": [
    "setX={1,2,3,4,5,'hola'}\n",
    "setX"
   ]
  }
 ],
 "metadata": {
  "kernelspec": {
   "display_name": "Python 3",
   "language": "python",
   "name": "python3"
  },
  "language_info": {
   "codemirror_mode": {
    "name": "ipython",
    "version": 3
   },
   "file_extension": ".py",
   "mimetype": "text/x-python",
   "name": "python",
   "nbconvert_exporter": "python",
   "pygments_lexer": "ipython3",
   "version": "3.7.7"
  }
 },
 "nbformat": 4,
 "nbformat_minor": 5
}
