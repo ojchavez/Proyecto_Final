{
 "cells": [
  {
   "cell_type": "code",
   "execution_count": 1,
   "metadata": {},
   "outputs": [],
   "source": [
    "class Empleado:\n",
    "    pass"
   ]
  },
  {
   "cell_type": "markdown",
   "metadata": {},
   "source": [
    "### 1. Campos - Atributos: datos que almacenamos de los objetos.\n",
    "### 2. Construtructores: funcion que (instancia, crea, almacena en memoria) un objeto\n",
    "### 3. Metodos: funciones para gestionar mis objetos.\n",
    "### 4. Destructores: saca de memoria a un objeto."
   ]
  },
  {
   "cell_type": "code",
   "execution_count": 2,
   "metadata": {},
   "outputs": [],
   "source": [
    "preng1 = Empleado() #usamos constructores, instanciamos el objeto "
   ]
  },
  {
   "cell_type": "code",
   "execution_count": 3,
   "metadata": {},
   "outputs": [
    {
     "data": {
      "text/plain": [
       "<__main__.Empleado at 0x7f95e153d250>"
      ]
     },
     "execution_count": 3,
     "metadata": {},
     "output_type": "execute_result"
    }
   ],
   "source": [
    "preng1"
   ]
  },
  {
   "cell_type": "code",
   "execution_count": 4,
   "metadata": {},
   "outputs": [],
   "source": [
    "preng1.nombre = \"Preng\"\n",
    "preng1.apellido = \"Biba\"\n",
    "preng1.coreo = \"prengsen@galileo.edu\"\n",
    "preng1.oficina = 310"
   ]
  },
  {
   "cell_type": "code",
   "execution_count": 5,
   "metadata": {},
   "outputs": [
    {
     "data": {
      "text/plain": [
       "<__main__.Empleado at 0x7f95e153d250>"
      ]
     },
     "execution_count": 5,
     "metadata": {},
     "output_type": "execute_result"
    }
   ],
   "source": [
    "preng1"
   ]
  },
  {
   "cell_type": "code",
   "execution_count": 6,
   "metadata": {},
   "outputs": [],
   "source": [
    "jose = Empleado()"
   ]
  },
  {
   "cell_type": "code",
   "execution_count": 7,
   "metadata": {},
   "outputs": [
    {
     "data": {
      "text/plain": [
       "<__main__.Empleado at 0x7f95e153de90>"
      ]
     },
     "execution_count": 7,
     "metadata": {},
     "output_type": "execute_result"
    }
   ],
   "source": [
    "jose"
   ]
  },
  {
   "cell_type": "code",
   "execution_count": 8,
   "metadata": {},
   "outputs": [
    {
     "data": {
      "text/plain": [
       "mappingproxy({'__module__': '__main__',\n",
       "              '__dict__': <attribute '__dict__' of 'Empleado' objects>,\n",
       "              '__weakref__': <attribute '__weakref__' of 'Empleado' objects>,\n",
       "              '__doc__': None})"
      ]
     },
     "execution_count": 8,
     "metadata": {},
     "output_type": "execute_result"
    }
   ],
   "source": [
    "Empleado.__dict__"
   ]
  },
  {
   "cell_type": "code",
   "execution_count": 9,
   "metadata": {},
   "outputs": [
    {
     "data": {
      "text/plain": [
       "{'nombre': 'Preng',\n",
       " 'apellido': 'Biba',\n",
       " 'coreo': 'prengsen@galileo.edu',\n",
       " 'oficina': 310}"
      ]
     },
     "execution_count": 9,
     "metadata": {},
     "output_type": "execute_result"
    }
   ],
   "source": [
    "preng1.__dict__"
   ]
  },
  {
   "cell_type": "code",
   "execution_count": 48,
   "metadata": {},
   "outputs": [],
   "source": [
    "class Empleado_v2():\n",
    "    def __init__(self, name, last, of):\n",
    "        self.nombre = name\n",
    "        self.apellido = last\n",
    "        self.correo = \"{}.{}@galileo.edu\".format(self.nombre.lower(), self.apellido.lower())\n",
    "        self.oficina = of\n",
    "        \n",
    "    def nombreCompleto(self):\n",
    "        return \"{} {}\".format(self.nombre, self.apellido)"
   ]
  },
  {
   "cell_type": "code",
   "execution_count": 49,
   "metadata": {},
   "outputs": [],
   "source": [
    "preng = Empleado_v2('Preng', 'Biba', 310)"
   ]
  },
  {
   "cell_type": "code",
   "execution_count": 50,
   "metadata": {},
   "outputs": [
    {
     "data": {
      "text/plain": [
       "{'nombre': 'Preng',\n",
       " 'apellido': 'Biba',\n",
       " 'correo': 'preng.biba@galileo.edu',\n",
       " 'oficina': 310}"
      ]
     },
     "execution_count": 50,
     "metadata": {},
     "output_type": "execute_result"
    }
   ],
   "source": [
    "preng.__dict__"
   ]
  },
  {
   "cell_type": "code",
   "execution_count": 51,
   "metadata": {},
   "outputs": [
    {
     "data": {
      "text/plain": [
       "'Preng'"
      ]
     },
     "execution_count": 51,
     "metadata": {},
     "output_type": "execute_result"
    }
   ],
   "source": [
    "preng.nombre"
   ]
  },
  {
   "cell_type": "code",
   "execution_count": 52,
   "metadata": {},
   "outputs": [
    {
     "data": {
      "text/plain": [
       "'Biba'"
      ]
     },
     "execution_count": 52,
     "metadata": {},
     "output_type": "execute_result"
    }
   ],
   "source": [
    "preng.apellido"
   ]
  },
  {
   "cell_type": "code",
   "execution_count": 53,
   "metadata": {},
   "outputs": [
    {
     "data": {
      "text/plain": [
       "'preng.biba@galileo.edu'"
      ]
     },
     "execution_count": 53,
     "metadata": {},
     "output_type": "execute_result"
    }
   ],
   "source": [
    "preng.correo"
   ]
  },
  {
   "cell_type": "code",
   "execution_count": 54,
   "metadata": {},
   "outputs": [
    {
     "data": {
      "text/plain": [
       "310"
      ]
     },
     "execution_count": 54,
     "metadata": {},
     "output_type": "execute_result"
    }
   ],
   "source": [
    "preng.oficina"
   ]
  },
  {
   "cell_type": "code",
   "execution_count": 55,
   "metadata": {},
   "outputs": [],
   "source": [
    "jose = Empleado_v2('Jose', 'Ramirez', 310)"
   ]
  },
  {
   "cell_type": "code",
   "execution_count": 56,
   "metadata": {},
   "outputs": [
    {
     "data": {
      "text/plain": [
       "{'nombre': 'Jose',\n",
       " 'apellido': 'Ramirez',\n",
       " 'correo': 'jose.ramirez@galileo.edu',\n",
       " 'oficina': 310}"
      ]
     },
     "execution_count": 56,
     "metadata": {},
     "output_type": "execute_result"
    }
   ],
   "source": [
    "jose.__dict__"
   ]
  },
  {
   "cell_type": "code",
   "execution_count": 57,
   "metadata": {},
   "outputs": [
    {
     "data": {
      "text/plain": [
       "'Preng Biba'"
      ]
     },
     "execution_count": 57,
     "metadata": {},
     "output_type": "execute_result"
    }
   ],
   "source": [
    "preng.nombreCompleto()"
   ]
  },
  {
   "cell_type": "code",
   "execution_count": 58,
   "metadata": {},
   "outputs": [],
   "source": [
    "jose.salario = 2500"
   ]
  },
  {
   "cell_type": "code",
   "execution_count": 59,
   "metadata": {},
   "outputs": [
    {
     "data": {
      "text/plain": [
       "{'nombre': 'Jose',\n",
       " 'apellido': 'Ramirez',\n",
       " 'correo': 'jose.ramirez@galileo.edu',\n",
       " 'oficina': 310,\n",
       " 'salario': 2500}"
      ]
     },
     "execution_count": 59,
     "metadata": {},
     "output_type": "execute_result"
    }
   ],
   "source": [
    "jose.__dict__"
   ]
  },
  {
   "cell_type": "code",
   "execution_count": 60,
   "metadata": {},
   "outputs": [
    {
     "data": {
      "text/plain": [
       "{'nombre': 'Preng',\n",
       " 'apellido': 'Biba',\n",
       " 'correo': 'preng.biba@galileo.edu',\n",
       " 'oficina': 310}"
      ]
     },
     "execution_count": 60,
     "metadata": {},
     "output_type": "execute_result"
    }
   ],
   "source": [
    "preng.__dict__"
   ]
  },
  {
   "cell_type": "code",
   "execution_count": 61,
   "metadata": {},
   "outputs": [
    {
     "data": {
      "text/plain": [
       "mappingproxy({'__module__': '__main__',\n",
       "              '__init__': <function __main__.Empleado_v2.__init__(self, name, last, of)>,\n",
       "              'nombreCompleto': <function __main__.Empleado_v2.nombreCompleto(self)>,\n",
       "              '__dict__': <attribute '__dict__' of 'Empleado_v2' objects>,\n",
       "              '__weakref__': <attribute '__weakref__' of 'Empleado_v2' objects>,\n",
       "              '__doc__': None})"
      ]
     },
     "execution_count": 61,
     "metadata": {},
     "output_type": "execute_result"
    }
   ],
   "source": [
    "Empleado_v2.__dict__"
   ]
  },
  {
   "cell_type": "code",
   "execution_count": 191,
   "metadata": {},
   "outputs": [],
   "source": [
    "class Empleado_v3():\n",
    "    \n",
    "    incremento = 1.04 #variable de clase.\n",
    "    \n",
    "    def __init__(self, name, last, of, slr):\n",
    "        self.nombre = name\n",
    "        self.apellido = last\n",
    "        self.correo = \"{}.{}@galileo.edu\".format(self.nombre.lower(), self.apellido.lower())\n",
    "        self.oficina = of\n",
    "        self.salario = slr\n",
    "        \n",
    "    #constructror2 \"sobrecarga\"\n",
    "    @classmethod\n",
    "    def from_str(cls, strEmpleado):\n",
    "        nmb, ap, of, slr = strEmpleado.split(\"-\")\n",
    "        return cls(nmb, ap, int(of), float(slr))\n",
    "        \n",
    "    def nombreCompleto(self):\n",
    "        return \"{} {}\".format(self.nombre, self.apellido)\n",
    "    \n",
    "    def incrementoSalario(self):\n",
    "        self.salario = int(self.salario*Empleado_v3.incremento)\n",
    "        \n",
    "    @classmethod\n",
    "    def cambiarIncremento(cls, monto):\n",
    "        if((monto > 0) and (monto < 1.10)):\n",
    "            cls.incremento = monto\n",
    "        else:\n",
    "            print(\"Error en incremento, valor no es valido\")\n",
    "            \n",
    "    #metodo static: no depende ni de la clase ni de la instancia\n",
    "    @staticmethod\n",
    "    def jornada(horas):\n",
    "        if(horas >= 7):\n",
    "            print(\"Jornada Completa\")\n",
    "        else:\n",
    "            print(\"Media Jornada\")\n",
    "            "
   ]
  },
  {
   "cell_type": "code",
   "execution_count": 192,
   "metadata": {},
   "outputs": [],
   "source": [
    "preng = Empleado_v3.from_str(\"Preng-Biba-310-2500\")"
   ]
  },
  {
   "cell_type": "code",
   "execution_count": 193,
   "metadata": {},
   "outputs": [
    {
     "data": {
      "text/plain": [
       "{'nombre': 'Preng',\n",
       " 'apellido': 'Biba',\n",
       " 'correo': 'preng.biba@galileo.edu',\n",
       " 'oficina': 310,\n",
       " 'salario': 2500.0}"
      ]
     },
     "execution_count": 193,
     "metadata": {},
     "output_type": "execute_result"
    }
   ],
   "source": [
    "preng.__dict__"
   ]
  },
  {
   "cell_type": "code",
   "execution_count": 194,
   "metadata": {},
   "outputs": [
    {
     "name": "stdout",
     "output_type": "stream",
     "text": [
      "Jornada Completa\n"
     ]
    }
   ],
   "source": [
    "Empleado_v3.jornada(8)"
   ]
  },
  {
   "cell_type": "code",
   "execution_count": 176,
   "metadata": {},
   "outputs": [],
   "source": [
    "preng = Empleado_v3('Preng', 'Biba', 310, 2700)"
   ]
  },
  {
   "cell_type": "code",
   "execution_count": 177,
   "metadata": {},
   "outputs": [],
   "source": [
    "#preng.incrementoSalario()"
   ]
  },
  {
   "cell_type": "code",
   "execution_count": 178,
   "metadata": {},
   "outputs": [
    {
     "data": {
      "text/plain": [
       "2700"
      ]
     },
     "execution_count": 178,
     "metadata": {},
     "output_type": "execute_result"
    }
   ],
   "source": [
    "preng.salario"
   ]
  },
  {
   "cell_type": "code",
   "execution_count": 179,
   "metadata": {},
   "outputs": [
    {
     "data": {
      "text/plain": [
       "mappingproxy({'__module__': '__main__',\n",
       "              'incremento': 1.04,\n",
       "              '__init__': <function __main__.Empleado_v3.__init__(self, name, last, of, slr)>,\n",
       "              'from_str': <classmethod at 0x7f95e160f410>,\n",
       "              'nombreCompleto': <function __main__.Empleado_v3.nombreCompleto(self)>,\n",
       "              'incrementoSalario': <function __main__.Empleado_v3.incrementoSalario(self)>,\n",
       "              'cambiarIncremento': <classmethod at 0x7f95e160f6d0>,\n",
       "              '__dict__': <attribute '__dict__' of 'Empleado_v3' objects>,\n",
       "              '__weakref__': <attribute '__weakref__' of 'Empleado_v3' objects>,\n",
       "              '__doc__': None})"
      ]
     },
     "execution_count": 179,
     "metadata": {},
     "output_type": "execute_result"
    }
   ],
   "source": [
    "Empleado_v3.__dict__"
   ]
  },
  {
   "cell_type": "code",
   "execution_count": 180,
   "metadata": {},
   "outputs": [],
   "source": [
    "preng.incremento = 1.05"
   ]
  },
  {
   "cell_type": "code",
   "execution_count": 166,
   "metadata": {},
   "outputs": [],
   "source": [
    "preng.incrementoSalario()"
   ]
  },
  {
   "cell_type": "code",
   "execution_count": 167,
   "metadata": {},
   "outputs": [
    {
     "data": {
      "text/plain": [
       "2808"
      ]
     },
     "execution_count": 167,
     "metadata": {},
     "output_type": "execute_result"
    }
   ],
   "source": [
    "preng.salario"
   ]
  },
  {
   "cell_type": "code",
   "execution_count": 168,
   "metadata": {},
   "outputs": [],
   "source": [
    "jose = Empleado_v3('Jose', 'Ramirez', 310, 2700)"
   ]
  },
  {
   "cell_type": "code",
   "execution_count": 169,
   "metadata": {},
   "outputs": [],
   "source": [
    "jose.incrementoSalario()"
   ]
  },
  {
   "cell_type": "code",
   "execution_count": 170,
   "metadata": {},
   "outputs": [
    {
     "data": {
      "text/plain": [
       "2808"
      ]
     },
     "execution_count": 170,
     "metadata": {},
     "output_type": "execute_result"
    }
   ],
   "source": [
    "jose.salario"
   ]
  },
  {
   "cell_type": "code",
   "execution_count": 172,
   "metadata": {},
   "outputs": [],
   "source": [
    "Empleado_v3.cambiarIncremento(1.08)"
   ]
  },
  {
   "cell_type": "code",
   "execution_count": 173,
   "metadata": {},
   "outputs": [],
   "source": [
    "preng.incrementoSalario()"
   ]
  },
  {
   "cell_type": "code",
   "execution_count": 174,
   "metadata": {},
   "outputs": [
    {
     "data": {
      "text/plain": [
       "3032"
      ]
     },
     "execution_count": 174,
     "metadata": {},
     "output_type": "execute_result"
    }
   ],
   "source": [
    "preng.salario"
   ]
  },
  {
   "cell_type": "code",
   "execution_count": null,
   "metadata": {},
   "outputs": [],
   "source": []
  }
 ],
 "metadata": {
  "kernelspec": {
   "display_name": "Python 3",
   "language": "python",
   "name": "python3"
  },
  "language_info": {
   "codemirror_mode": {
    "name": "ipython",
    "version": 3
   },
   "file_extension": ".py",
   "mimetype": "text/x-python",
   "name": "python",
   "nbconvert_exporter": "python",
   "pygments_lexer": "ipython3",
   "version": "3.7.7"
  }
 },
 "nbformat": 4,
 "nbformat_minor": 4
}
