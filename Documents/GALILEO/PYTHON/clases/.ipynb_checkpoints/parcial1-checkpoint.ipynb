{
 "cells": [
  {
   "cell_type": "markdown",
   "metadata": {},
   "source": [
    "# Examen Parcial 1\n",
    "### Oscar Chavez Valdez"
   ]
  },
  {
   "cell_type": "markdown",
   "metadata": {},
   "source": [
    "Problema: Desarrolle un programa que resuelva los siguiente:\n",
    "\n",
    "1. Desarrolle en Python un programa el cual genere un código alfa numérico de 7 letras mayusculas y 7 números entetos, estos deben ser aleatorios, el código debe ser intercalado empezando por letras y cada numero debe ser de un dígito. \n",
    "2. Su programa debe ejecutarse siempre y esperar la tecla enter para crear un código nuevo, el programa solo debe detenerse cuando el usuario ingrese la palabra exit en mayusculas o minúsculas o combinado.\n",
    "3. Ademas de esto su programa debe separar todos los códigos que se generen en validos o no validos, un código se considera valido si la suma de los números que lo conforman es mayor a 30 y no es valido end caso contrario.\n",
    "4. Si un código es valido, este debe almacenarse en un diccionario el cual contenga la suma de los números enteros como llave y el código como valor, note que en una ejecución se pueden crear varios códigos.\n",
    "5. Por otro lado si el código no es valido, este deberá almacenarse en una lista.\n",
    "6. Al momento de que el usuario ingrese exit, el programa deberá desplegar el contenido del diccionario de códigos validos y la lista de códigos no válidos."
   ]
  },
  {
   "cell_type": "code",
   "execution_count": 2,
   "metadata": {},
   "outputs": [],
   "source": [
    "import random\n",
    "import string"
   ]
  },
  {
   "cell_type": "code",
   "execution_count": 31,
   "metadata": {},
   "outputs": [],
   "source": [
    "def validar_codigo(s): \n",
    "    temp = \"\" \n",
    "    aux = 0\n",
    "    for char in range(0, len(s)): \n",
    "        if s[char].isdigit():\n",
    "            aux = aux + int(s[char]) \n",
    "    return aux"
   ]
  },
  {
   "cell_type": "code",
   "execution_count": 37,
   "metadata": {},
   "outputs": [
    {
     "name": "stdin",
     "output_type": "stream",
     "text": [
      "Presione <enter> para generar un nuevo código, o escriba 'EXIT' para salir EXIT\n"
     ]
    },
    {
     "name": "stdout",
     "output_type": "stream",
     "text": [
      "CODIGOS VALIDOS:\n",
      "{}\n",
      "CODIGOS NO VALIDOS:\n",
      "[]\n"
     ]
    }
   ],
   "source": [
    "validos = {}\n",
    "novalidos = []\n",
    "threshold = 30\n",
    "\n",
    "# NOTA: Es raro que la suma de los numeros sea mayor a 30 (porque son pocos numeros).\n",
    "# Entonces la mayoria de los codigos son no validos. \n",
    "# Para probar el codigo, recomiento bajar el treshold de 30 a 10, entonces asi habran mas codigos validos\n",
    "\n",
    "while True:\n",
    "    valor = input(\"Presione <enter> para generar un nuevo código, o escriba 'EXIT' para salir\")\n",
    "    if(valor == \"EXIT\"):\n",
    "        print(\"CODIGOS VALIDOS:\")\n",
    "        print(validos)\n",
    "        print(\"CODIGOS NO VALIDOS:\")\n",
    "        print(novalidos)\n",
    "        break\n",
    "    elif(valor == \"\"):\n",
    "        primer_alpha=random.choice(string.ascii_uppercase)\n",
    "        seis_alphanum=''.join(random.choice(string.ascii_uppercase + string.digits) for _ in range(6))\n",
    "        cod=primer_alpha+seis_alphanum\n",
    "        aux=validar_codigo(cod)\n",
    "        if aux > threshold:\n",
    "            d={aux:cod}\n",
    "            validos.update(d)\n",
    "        else:\n",
    "            novalidos.append(cod)\n",
    "    else:\n",
    "        print(\"Por favor presione <enter> para generar un nuevo código, o escriba 'EXIT' para salir\")"
   ]
  },
  {
   "cell_type": "code",
   "execution_count": null,
   "metadata": {},
   "outputs": [],
   "source": []
  },
  {
   "cell_type": "code",
   "execution_count": null,
   "metadata": {},
   "outputs": [],
   "source": []
  }
 ],
 "metadata": {
  "kernelspec": {
   "display_name": "Python 3",
   "language": "python",
   "name": "python3"
  },
  "language_info": {
   "codemirror_mode": {
    "name": "ipython",
    "version": 3
   },
   "file_extension": ".py",
   "mimetype": "text/x-python",
   "name": "python",
   "nbconvert_exporter": "python",
   "pygments_lexer": "ipython3",
   "version": "3.7.7"
  }
 },
 "nbformat": 4,
 "nbformat_minor": 4
}
